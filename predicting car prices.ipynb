{
 "cells": [
  {
   "cell_type": "markdown",
   "metadata": {
    "collapsed": true
   },
   "source": [
    "## Predicting Car Prices\n",
    "\n",
    "In the course, we explored the fundamentals of machine learning using the k-nearest neighbors algorithm. In this project, we'll practice the machine learning workflow we've learned so far to predict a car's market price using its attributes. \n",
    "\n",
    "The data set we will be working with contains information on various cars. For each car we have information about the technical aspects of the vehicle such as the motor's displacement, the weight of the car, the miles per gallon, how fast the car accelerates, and more. "
   ]
  },
  {
   "cell_type": "markdown",
   "metadata": {},
   "source": [
    "## Introduction to the data set\n",
    "\n",
    "Let's first read the data into a dataframe and explore the data set."
   ]
  },
  {
   "cell_type": "code",
   "execution_count": 1,
   "metadata": {
    "collapsed": false
   },
   "outputs": [
    {
     "data": {
      "text/html": [
       "<div>\n",
       "<style scoped>\n",
       "    .dataframe tbody tr th:only-of-type {\n",
       "        vertical-align: middle;\n",
       "    }\n",
       "\n",
       "    .dataframe tbody tr th {\n",
       "        vertical-align: top;\n",
       "    }\n",
       "\n",
       "    .dataframe thead th {\n",
       "        text-align: right;\n",
       "    }\n",
       "</style>\n",
       "<table border=\"1\" class=\"dataframe\">\n",
       "  <thead>\n",
       "    <tr style=\"text-align: right;\">\n",
       "      <th></th>\n",
       "      <th>symboling</th>\n",
       "      <th>normalized_losses</th>\n",
       "      <th>make</th>\n",
       "      <th>fuel_type</th>\n",
       "      <th>aspiration</th>\n",
       "      <th>num_doors</th>\n",
       "      <th>body_style</th>\n",
       "      <th>drive_wheels</th>\n",
       "      <th>engine_location</th>\n",
       "      <th>wheel_base</th>\n",
       "      <th>...</th>\n",
       "      <th>engine_size</th>\n",
       "      <th>fuel_system</th>\n",
       "      <th>bore</th>\n",
       "      <th>stroke</th>\n",
       "      <th>compression_ratio</th>\n",
       "      <th>horsepower</th>\n",
       "      <th>peak_rpm</th>\n",
       "      <th>city_mpg</th>\n",
       "      <th>highway_mpg</th>\n",
       "      <th>price</th>\n",
       "    </tr>\n",
       "  </thead>\n",
       "  <tbody>\n",
       "    <tr>\n",
       "      <th>0</th>\n",
       "      <td>3</td>\n",
       "      <td>?</td>\n",
       "      <td>alfa-romero</td>\n",
       "      <td>gas</td>\n",
       "      <td>std</td>\n",
       "      <td>two</td>\n",
       "      <td>convertible</td>\n",
       "      <td>rwd</td>\n",
       "      <td>front</td>\n",
       "      <td>88.6</td>\n",
       "      <td>...</td>\n",
       "      <td>130</td>\n",
       "      <td>mpfi</td>\n",
       "      <td>3.47</td>\n",
       "      <td>2.68</td>\n",
       "      <td>9.0</td>\n",
       "      <td>111</td>\n",
       "      <td>5000</td>\n",
       "      <td>21</td>\n",
       "      <td>27</td>\n",
       "      <td>13495</td>\n",
       "    </tr>\n",
       "    <tr>\n",
       "      <th>1</th>\n",
       "      <td>3</td>\n",
       "      <td>?</td>\n",
       "      <td>alfa-romero</td>\n",
       "      <td>gas</td>\n",
       "      <td>std</td>\n",
       "      <td>two</td>\n",
       "      <td>convertible</td>\n",
       "      <td>rwd</td>\n",
       "      <td>front</td>\n",
       "      <td>88.6</td>\n",
       "      <td>...</td>\n",
       "      <td>130</td>\n",
       "      <td>mpfi</td>\n",
       "      <td>3.47</td>\n",
       "      <td>2.68</td>\n",
       "      <td>9.0</td>\n",
       "      <td>111</td>\n",
       "      <td>5000</td>\n",
       "      <td>21</td>\n",
       "      <td>27</td>\n",
       "      <td>16500</td>\n",
       "    </tr>\n",
       "    <tr>\n",
       "      <th>2</th>\n",
       "      <td>1</td>\n",
       "      <td>?</td>\n",
       "      <td>alfa-romero</td>\n",
       "      <td>gas</td>\n",
       "      <td>std</td>\n",
       "      <td>two</td>\n",
       "      <td>hatchback</td>\n",
       "      <td>rwd</td>\n",
       "      <td>front</td>\n",
       "      <td>94.5</td>\n",
       "      <td>...</td>\n",
       "      <td>152</td>\n",
       "      <td>mpfi</td>\n",
       "      <td>2.68</td>\n",
       "      <td>3.47</td>\n",
       "      <td>9.0</td>\n",
       "      <td>154</td>\n",
       "      <td>5000</td>\n",
       "      <td>19</td>\n",
       "      <td>26</td>\n",
       "      <td>16500</td>\n",
       "    </tr>\n",
       "    <tr>\n",
       "      <th>3</th>\n",
       "      <td>2</td>\n",
       "      <td>164</td>\n",
       "      <td>audi</td>\n",
       "      <td>gas</td>\n",
       "      <td>std</td>\n",
       "      <td>four</td>\n",
       "      <td>sedan</td>\n",
       "      <td>fwd</td>\n",
       "      <td>front</td>\n",
       "      <td>99.8</td>\n",
       "      <td>...</td>\n",
       "      <td>109</td>\n",
       "      <td>mpfi</td>\n",
       "      <td>3.19</td>\n",
       "      <td>3.40</td>\n",
       "      <td>10.0</td>\n",
       "      <td>102</td>\n",
       "      <td>5500</td>\n",
       "      <td>24</td>\n",
       "      <td>30</td>\n",
       "      <td>13950</td>\n",
       "    </tr>\n",
       "    <tr>\n",
       "      <th>4</th>\n",
       "      <td>2</td>\n",
       "      <td>164</td>\n",
       "      <td>audi</td>\n",
       "      <td>gas</td>\n",
       "      <td>std</td>\n",
       "      <td>four</td>\n",
       "      <td>sedan</td>\n",
       "      <td>4wd</td>\n",
       "      <td>front</td>\n",
       "      <td>99.4</td>\n",
       "      <td>...</td>\n",
       "      <td>136</td>\n",
       "      <td>mpfi</td>\n",
       "      <td>3.19</td>\n",
       "      <td>3.40</td>\n",
       "      <td>8.0</td>\n",
       "      <td>115</td>\n",
       "      <td>5500</td>\n",
       "      <td>18</td>\n",
       "      <td>22</td>\n",
       "      <td>17450</td>\n",
       "    </tr>\n",
       "  </tbody>\n",
       "</table>\n",
       "<p>5 rows × 26 columns</p>\n",
       "</div>"
      ],
      "text/plain": [
       "   symboling normalized_losses         make fuel_type aspiration num_doors  \\\n",
       "0          3                 ?  alfa-romero       gas        std       two   \n",
       "1          3                 ?  alfa-romero       gas        std       two   \n",
       "2          1                 ?  alfa-romero       gas        std       two   \n",
       "3          2               164         audi       gas        std      four   \n",
       "4          2               164         audi       gas        std      four   \n",
       "\n",
       "    body_style drive_wheels engine_location  wheel_base  ...    engine_size  \\\n",
       "0  convertible          rwd           front        88.6  ...            130   \n",
       "1  convertible          rwd           front        88.6  ...            130   \n",
       "2    hatchback          rwd           front        94.5  ...            152   \n",
       "3        sedan          fwd           front        99.8  ...            109   \n",
       "4        sedan          4wd           front        99.4  ...            136   \n",
       "\n",
       "   fuel_system  bore  stroke compression_ratio horsepower  peak_rpm city_mpg  \\\n",
       "0         mpfi  3.47    2.68               9.0        111      5000       21   \n",
       "1         mpfi  3.47    2.68               9.0        111      5000       21   \n",
       "2         mpfi  2.68    3.47               9.0        154      5000       19   \n",
       "3         mpfi  3.19    3.40              10.0        102      5500       24   \n",
       "4         mpfi  3.19    3.40               8.0        115      5500       18   \n",
       "\n",
       "  highway_mpg  price  \n",
       "0          27  13495  \n",
       "1          27  16500  \n",
       "2          26  16500  \n",
       "3          30  13950  \n",
       "4          22  17450  \n",
       "\n",
       "[5 rows x 26 columns]"
      ]
     },
     "execution_count": 1,
     "metadata": {},
     "output_type": "execute_result"
    }
   ],
   "source": [
    "import pandas as pd\n",
    "cols = ['symboling', 'normalized_losses', 'make', 'fuel_type', 'aspiration', 'num_doors', 'body_style',\n",
    "       'drive_wheels', 'engine_location', 'wheel_base', 'length', 'width', 'height', 'curb_weight', \n",
    "        'engine_type', 'num_cylinders', 'engine_size', 'fuel_system', 'bore', 'stroke', 'compression_ratio',\n",
    "       'horsepower', 'peak_rpm', 'city_mpg', 'highway_mpg', 'price']\n",
    "cars = pd.read_csv(\"imports-85.data\", header = None, names = cols)\n",
    "cars.head()"
   ]
  },
  {
   "cell_type": "markdown",
   "metadata": {},
   "source": [
    "In all the columns, there are numeric ones as follows:\n",
    "   + normalized_losses\n",
    "   + wheel_base\n",
    "   + length\n",
    "   + width\n",
    "   + height\n",
    "   + curb_weight\n",
    "   + engine_size\n",
    "   + bore\n",
    "   + stroke\n",
    "   + compression_ratio\n",
    "   + horsepower\n",
    "   + peak_rpm\n",
    "   + city_mpg\n",
    "   + highway_mpg\n",
    "   + price\n",
    "   \n",
    "The 'price' column is the target column."
   ]
  },
  {
   "cell_type": "markdown",
   "metadata": {},
   "source": [
    "## Data Cleaning\n",
    "\n",
    "As we learned in the course, we usually can't have any missing values if we want to use them for predictive modeling. Based on the data set preview from the last step, we can tell that the normalized-losses column contains missing values represented using \"?\". Let's replace these values and look for the presence of missing values in other numeric columns. Let's also rescale the values in the numeric columns so they all range from 0 to 1."
   ]
  },
  {
   "cell_type": "code",
   "execution_count": 2,
   "metadata": {
    "collapsed": false
   },
   "outputs": [
    {
     "data": {
      "text/html": [
       "<div>\n",
       "<style scoped>\n",
       "    .dataframe tbody tr th:only-of-type {\n",
       "        vertical-align: middle;\n",
       "    }\n",
       "\n",
       "    .dataframe tbody tr th {\n",
       "        vertical-align: top;\n",
       "    }\n",
       "\n",
       "    .dataframe thead th {\n",
       "        text-align: right;\n",
       "    }\n",
       "</style>\n",
       "<table border=\"1\" class=\"dataframe\">\n",
       "  <thead>\n",
       "    <tr style=\"text-align: right;\">\n",
       "      <th></th>\n",
       "      <th>symboling</th>\n",
       "      <th>normalized_losses</th>\n",
       "      <th>make</th>\n",
       "      <th>fuel_type</th>\n",
       "      <th>aspiration</th>\n",
       "      <th>num_doors</th>\n",
       "      <th>body_style</th>\n",
       "      <th>drive_wheels</th>\n",
       "      <th>engine_location</th>\n",
       "      <th>wheel_base</th>\n",
       "      <th>...</th>\n",
       "      <th>engine_size</th>\n",
       "      <th>fuel_system</th>\n",
       "      <th>bore</th>\n",
       "      <th>stroke</th>\n",
       "      <th>compression_ratio</th>\n",
       "      <th>horsepower</th>\n",
       "      <th>peak_rpm</th>\n",
       "      <th>city_mpg</th>\n",
       "      <th>highway_mpg</th>\n",
       "      <th>price</th>\n",
       "    </tr>\n",
       "  </thead>\n",
       "  <tbody>\n",
       "    <tr>\n",
       "      <th>0</th>\n",
       "      <td>3</td>\n",
       "      <td>NaN</td>\n",
       "      <td>alfa-romero</td>\n",
       "      <td>gas</td>\n",
       "      <td>std</td>\n",
       "      <td>two</td>\n",
       "      <td>convertible</td>\n",
       "      <td>rwd</td>\n",
       "      <td>front</td>\n",
       "      <td>88.6</td>\n",
       "      <td>...</td>\n",
       "      <td>130</td>\n",
       "      <td>mpfi</td>\n",
       "      <td>3.47</td>\n",
       "      <td>2.68</td>\n",
       "      <td>9.0</td>\n",
       "      <td>111</td>\n",
       "      <td>5000</td>\n",
       "      <td>21</td>\n",
       "      <td>27</td>\n",
       "      <td>13495</td>\n",
       "    </tr>\n",
       "    <tr>\n",
       "      <th>1</th>\n",
       "      <td>3</td>\n",
       "      <td>NaN</td>\n",
       "      <td>alfa-romero</td>\n",
       "      <td>gas</td>\n",
       "      <td>std</td>\n",
       "      <td>two</td>\n",
       "      <td>convertible</td>\n",
       "      <td>rwd</td>\n",
       "      <td>front</td>\n",
       "      <td>88.6</td>\n",
       "      <td>...</td>\n",
       "      <td>130</td>\n",
       "      <td>mpfi</td>\n",
       "      <td>3.47</td>\n",
       "      <td>2.68</td>\n",
       "      <td>9.0</td>\n",
       "      <td>111</td>\n",
       "      <td>5000</td>\n",
       "      <td>21</td>\n",
       "      <td>27</td>\n",
       "      <td>16500</td>\n",
       "    </tr>\n",
       "    <tr>\n",
       "      <th>2</th>\n",
       "      <td>1</td>\n",
       "      <td>NaN</td>\n",
       "      <td>alfa-romero</td>\n",
       "      <td>gas</td>\n",
       "      <td>std</td>\n",
       "      <td>two</td>\n",
       "      <td>hatchback</td>\n",
       "      <td>rwd</td>\n",
       "      <td>front</td>\n",
       "      <td>94.5</td>\n",
       "      <td>...</td>\n",
       "      <td>152</td>\n",
       "      <td>mpfi</td>\n",
       "      <td>2.68</td>\n",
       "      <td>3.47</td>\n",
       "      <td>9.0</td>\n",
       "      <td>154</td>\n",
       "      <td>5000</td>\n",
       "      <td>19</td>\n",
       "      <td>26</td>\n",
       "      <td>16500</td>\n",
       "    </tr>\n",
       "    <tr>\n",
       "      <th>3</th>\n",
       "      <td>2</td>\n",
       "      <td>164</td>\n",
       "      <td>audi</td>\n",
       "      <td>gas</td>\n",
       "      <td>std</td>\n",
       "      <td>four</td>\n",
       "      <td>sedan</td>\n",
       "      <td>fwd</td>\n",
       "      <td>front</td>\n",
       "      <td>99.8</td>\n",
       "      <td>...</td>\n",
       "      <td>109</td>\n",
       "      <td>mpfi</td>\n",
       "      <td>3.19</td>\n",
       "      <td>3.40</td>\n",
       "      <td>10.0</td>\n",
       "      <td>102</td>\n",
       "      <td>5500</td>\n",
       "      <td>24</td>\n",
       "      <td>30</td>\n",
       "      <td>13950</td>\n",
       "    </tr>\n",
       "    <tr>\n",
       "      <th>4</th>\n",
       "      <td>2</td>\n",
       "      <td>164</td>\n",
       "      <td>audi</td>\n",
       "      <td>gas</td>\n",
       "      <td>std</td>\n",
       "      <td>four</td>\n",
       "      <td>sedan</td>\n",
       "      <td>4wd</td>\n",
       "      <td>front</td>\n",
       "      <td>99.4</td>\n",
       "      <td>...</td>\n",
       "      <td>136</td>\n",
       "      <td>mpfi</td>\n",
       "      <td>3.19</td>\n",
       "      <td>3.40</td>\n",
       "      <td>8.0</td>\n",
       "      <td>115</td>\n",
       "      <td>5500</td>\n",
       "      <td>18</td>\n",
       "      <td>22</td>\n",
       "      <td>17450</td>\n",
       "    </tr>\n",
       "  </tbody>\n",
       "</table>\n",
       "<p>5 rows × 26 columns</p>\n",
       "</div>"
      ],
      "text/plain": [
       "   symboling normalized_losses         make fuel_type aspiration num_doors  \\\n",
       "0          3               NaN  alfa-romero       gas        std       two   \n",
       "1          3               NaN  alfa-romero       gas        std       two   \n",
       "2          1               NaN  alfa-romero       gas        std       two   \n",
       "3          2               164         audi       gas        std      four   \n",
       "4          2               164         audi       gas        std      four   \n",
       "\n",
       "    body_style drive_wheels engine_location  wheel_base  ...    engine_size  \\\n",
       "0  convertible          rwd           front        88.6  ...            130   \n",
       "1  convertible          rwd           front        88.6  ...            130   \n",
       "2    hatchback          rwd           front        94.5  ...            152   \n",
       "3        sedan          fwd           front        99.8  ...            109   \n",
       "4        sedan          4wd           front        99.4  ...            136   \n",
       "\n",
       "   fuel_system  bore  stroke compression_ratio horsepower  peak_rpm city_mpg  \\\n",
       "0         mpfi  3.47    2.68               9.0        111      5000       21   \n",
       "1         mpfi  3.47    2.68               9.0        111      5000       21   \n",
       "2         mpfi  2.68    3.47               9.0        154      5000       19   \n",
       "3         mpfi  3.19    3.40              10.0        102      5500       24   \n",
       "4         mpfi  3.19    3.40               8.0        115      5500       18   \n",
       "\n",
       "  highway_mpg  price  \n",
       "0          27  13495  \n",
       "1          27  16500  \n",
       "2          26  16500  \n",
       "3          30  13950  \n",
       "4          22  17450  \n",
       "\n",
       "[5 rows x 26 columns]"
      ]
     },
     "execution_count": 2,
     "metadata": {},
     "output_type": "execute_result"
    }
   ],
   "source": [
    "import numpy as np\n",
    "cars = cars.replace('?', np.nan)\n",
    "cars.head()"
   ]
  },
  {
   "cell_type": "markdown",
   "metadata": {},
   "source": [
    "Next let's calculate the number of rows that have a missing value for the 'normalized_losses' column."
   ]
  },
  {
   "cell_type": "code",
   "execution_count": 3,
   "metadata": {
    "collapsed": false
   },
   "outputs": [
    {
     "data": {
      "text/plain": [
       "NaN    0.200000\n",
       "161    0.053659\n",
       "91     0.039024\n",
       "150    0.034146\n",
       "134    0.029268\n",
       "104    0.029268\n",
       "128    0.029268\n",
       "102    0.024390\n",
       "94     0.024390\n",
       "65     0.024390\n",
       "103    0.024390\n",
       "85     0.024390\n",
       "74     0.024390\n",
       "168    0.024390\n",
       "95     0.024390\n",
       "148    0.019512\n",
       "106    0.019512\n",
       "93     0.019512\n",
       "118    0.019512\n",
       "122    0.019512\n",
       "101    0.014634\n",
       "137    0.014634\n",
       "115    0.014634\n",
       "125    0.014634\n",
       "154    0.014634\n",
       "83     0.014634\n",
       "197    0.009756\n",
       "129    0.009756\n",
       "81     0.009756\n",
       "164    0.009756\n",
       "89     0.009756\n",
       "113    0.009756\n",
       "108    0.009756\n",
       "87     0.009756\n",
       "158    0.009756\n",
       "192    0.009756\n",
       "188    0.009756\n",
       "119    0.009756\n",
       "153    0.009756\n",
       "145    0.009756\n",
       "110    0.009756\n",
       "194    0.009756\n",
       "107    0.004878\n",
       "256    0.004878\n",
       "231    0.004878\n",
       "98     0.004878\n",
       "90     0.004878\n",
       "186    0.004878\n",
       "78     0.004878\n",
       "142    0.004878\n",
       "77     0.004878\n",
       "121    0.004878\n",
       "Name: normalized_losses, dtype: float64"
      ]
     },
     "execution_count": 3,
     "metadata": {},
     "output_type": "execute_result"
    }
   ],
   "source": [
    "cars['normalized_losses'].value_counts(normalize = True, dropna = False)"
   ]
  },
  {
   "cell_type": "code",
   "execution_count": 4,
   "metadata": {
    "collapsed": false
   },
   "outputs": [
    {
     "data": {
      "text/plain": [
       "41"
      ]
     },
     "execution_count": 4,
     "metadata": {},
     "output_type": "execute_result"
    }
   ],
   "source": [
    "cars['normalized_losses'].isnull().sum()"
   ]
  },
  {
   "cell_type": "markdown",
   "metadata": {},
   "source": [
    "41 rows, about 20% of 'normalized_losses' column have missing values. If we drop these rows entirely, we'll lose a lot of information. Instead, We'll replace the missing values using the average values from that column."
   ]
  },
  {
   "cell_type": "markdown",
   "metadata": {},
   "source": [
    "Let's extract the other numeric columns and explore the missing value counts for the other numeric columns."
   ]
  },
  {
   "cell_type": "code",
   "execution_count": 5,
   "metadata": {
    "collapsed": false
   },
   "outputs": [
    {
     "name": "stdout",
     "output_type": "stream",
     "text": [
      "<class 'pandas.core.frame.DataFrame'>\n",
      "RangeIndex: 205 entries, 0 to 204\n",
      "Data columns (total 15 columns):\n",
      "normalized_losses    164 non-null object\n",
      "wheel_base           205 non-null float64\n",
      "length               205 non-null float64\n",
      "width                205 non-null float64\n",
      "height               205 non-null float64\n",
      "curb_weight          205 non-null int64\n",
      "engine_size          205 non-null int64\n",
      "bore                 201 non-null object\n",
      "stroke               201 non-null object\n",
      "compression_ratio    205 non-null float64\n",
      "horsepower           203 non-null object\n",
      "peak_rpm             203 non-null object\n",
      "city_mpg             205 non-null int64\n",
      "highway_mpg          205 non-null int64\n",
      "price                201 non-null object\n",
      "dtypes: float64(5), int64(4), object(6)\n",
      "memory usage: 24.1+ KB\n"
     ]
    }
   ],
   "source": [
    "numeric_col = ['normalized_losses', 'wheel_base', 'length', 'width', 'height', \n",
    "               'curb_weight', 'engine_size', 'bore', 'stroke', 'compression_ratio',\n",
    "               'horsepower', 'peak_rpm', 'city_mpg', 'highway_mpg', 'price']\n",
    "numeric_cars = cars[numeric_col]\n",
    "numeric_cars.info()"
   ]
  },
  {
   "cell_type": "markdown",
   "metadata": {
    "collapsed": true
   },
   "source": [
    "We noticed that there are 4 missing values in 'price' column. We don't expect any missing value in this column. Here we will delete these 4 rows."
   ]
  },
  {
   "cell_type": "code",
   "execution_count": 6,
   "metadata": {
    "collapsed": false
   },
   "outputs": [
    {
     "name": "stdout",
     "output_type": "stream",
     "text": [
      "<class 'pandas.core.frame.DataFrame'>\n",
      "Int64Index: 201 entries, 0 to 204\n",
      "Data columns (total 15 columns):\n",
      "normalized_losses    164 non-null object\n",
      "wheel_base           201 non-null float64\n",
      "length               201 non-null float64\n",
      "width                201 non-null float64\n",
      "height               201 non-null float64\n",
      "curb_weight          201 non-null int64\n",
      "engine_size          201 non-null int64\n",
      "bore                 197 non-null object\n",
      "stroke               197 non-null object\n",
      "compression_ratio    201 non-null float64\n",
      "horsepower           199 non-null object\n",
      "peak_rpm             199 non-null object\n",
      "city_mpg             201 non-null int64\n",
      "highway_mpg          201 non-null int64\n",
      "price                201 non-null object\n",
      "dtypes: float64(5), int64(4), object(6)\n",
      "memory usage: 25.1+ KB\n"
     ]
    }
   ],
   "source": [
    "numeric_cars = numeric_cars.dropna(subset=['price'])\n",
    "numeric_cars.info()"
   ]
  },
  {
   "cell_type": "markdown",
   "metadata": {},
   "source": [
    "Now we have all missing values removed in 'price' column. Next, we will cast all the non-numeric values into numeric type('float' here)."
   ]
  },
  {
   "cell_type": "code",
   "execution_count": 7,
   "metadata": {
    "collapsed": false
   },
   "outputs": [
    {
     "name": "stdout",
     "output_type": "stream",
     "text": [
      "<class 'pandas.core.frame.DataFrame'>\n",
      "Int64Index: 201 entries, 0 to 204\n",
      "Data columns (total 15 columns):\n",
      "normalized_losses    164 non-null float64\n",
      "wheel_base           201 non-null float64\n",
      "length               201 non-null float64\n",
      "width                201 non-null float64\n",
      "height               201 non-null float64\n",
      "curb_weight          201 non-null float64\n",
      "engine_size          201 non-null float64\n",
      "bore                 197 non-null float64\n",
      "stroke               197 non-null float64\n",
      "compression_ratio    201 non-null float64\n",
      "horsepower           199 non-null float64\n",
      "peak_rpm             199 non-null float64\n",
      "city_mpg             201 non-null float64\n",
      "highway_mpg          201 non-null float64\n",
      "price                201 non-null float64\n",
      "dtypes: float64(15)\n",
      "memory usage: 25.1 KB\n"
     ]
    }
   ],
   "source": [
    "numeric_cars = numeric_cars.astype('float')\n",
    "numeric_cars.info()"
   ]
  },
  {
   "cell_type": "markdown",
   "metadata": {},
   "source": [
    "We will replace the rest missing values with the average value of their columns."
   ]
  },
  {
   "cell_type": "code",
   "execution_count": 8,
   "metadata": {
    "collapsed": false
   },
   "outputs": [
    {
     "name": "stdout",
     "output_type": "stream",
     "text": [
      "<class 'pandas.core.frame.DataFrame'>\n",
      "Int64Index: 201 entries, 0 to 204\n",
      "Data columns (total 15 columns):\n",
      "normalized_losses    201 non-null float64\n",
      "wheel_base           201 non-null float64\n",
      "length               201 non-null float64\n",
      "width                201 non-null float64\n",
      "height               201 non-null float64\n",
      "curb_weight          201 non-null float64\n",
      "engine_size          201 non-null float64\n",
      "bore                 201 non-null float64\n",
      "stroke               201 non-null float64\n",
      "compression_ratio    201 non-null float64\n",
      "horsepower           201 non-null float64\n",
      "peak_rpm             201 non-null float64\n",
      "city_mpg             201 non-null float64\n",
      "highway_mpg          201 non-null float64\n",
      "price                201 non-null float64\n",
      "dtypes: float64(15)\n",
      "memory usage: 25.1 KB\n",
      "None\n"
     ]
    },
    {
     "data": {
      "text/html": [
       "<div>\n",
       "<style scoped>\n",
       "    .dataframe tbody tr th:only-of-type {\n",
       "        vertical-align: middle;\n",
       "    }\n",
       "\n",
       "    .dataframe tbody tr th {\n",
       "        vertical-align: top;\n",
       "    }\n",
       "\n",
       "    .dataframe thead th {\n",
       "        text-align: right;\n",
       "    }\n",
       "</style>\n",
       "<table border=\"1\" class=\"dataframe\">\n",
       "  <thead>\n",
       "    <tr style=\"text-align: right;\">\n",
       "      <th></th>\n",
       "      <th>normalized_losses</th>\n",
       "      <th>wheel_base</th>\n",
       "      <th>length</th>\n",
       "      <th>width</th>\n",
       "      <th>height</th>\n",
       "      <th>curb_weight</th>\n",
       "      <th>engine_size</th>\n",
       "      <th>bore</th>\n",
       "      <th>stroke</th>\n",
       "      <th>compression_ratio</th>\n",
       "      <th>horsepower</th>\n",
       "      <th>peak_rpm</th>\n",
       "      <th>city_mpg</th>\n",
       "      <th>highway_mpg</th>\n",
       "      <th>price</th>\n",
       "    </tr>\n",
       "  </thead>\n",
       "  <tbody>\n",
       "    <tr>\n",
       "      <th>0</th>\n",
       "      <td>122.0</td>\n",
       "      <td>88.6</td>\n",
       "      <td>168.8</td>\n",
       "      <td>64.1</td>\n",
       "      <td>48.8</td>\n",
       "      <td>2548.0</td>\n",
       "      <td>130.0</td>\n",
       "      <td>3.47</td>\n",
       "      <td>2.68</td>\n",
       "      <td>9.0</td>\n",
       "      <td>111.0</td>\n",
       "      <td>5000.0</td>\n",
       "      <td>21.0</td>\n",
       "      <td>27.0</td>\n",
       "      <td>13495.0</td>\n",
       "    </tr>\n",
       "    <tr>\n",
       "      <th>1</th>\n",
       "      <td>122.0</td>\n",
       "      <td>88.6</td>\n",
       "      <td>168.8</td>\n",
       "      <td>64.1</td>\n",
       "      <td>48.8</td>\n",
       "      <td>2548.0</td>\n",
       "      <td>130.0</td>\n",
       "      <td>3.47</td>\n",
       "      <td>2.68</td>\n",
       "      <td>9.0</td>\n",
       "      <td>111.0</td>\n",
       "      <td>5000.0</td>\n",
       "      <td>21.0</td>\n",
       "      <td>27.0</td>\n",
       "      <td>16500.0</td>\n",
       "    </tr>\n",
       "    <tr>\n",
       "      <th>2</th>\n",
       "      <td>122.0</td>\n",
       "      <td>94.5</td>\n",
       "      <td>171.2</td>\n",
       "      <td>65.5</td>\n",
       "      <td>52.4</td>\n",
       "      <td>2823.0</td>\n",
       "      <td>152.0</td>\n",
       "      <td>2.68</td>\n",
       "      <td>3.47</td>\n",
       "      <td>9.0</td>\n",
       "      <td>154.0</td>\n",
       "      <td>5000.0</td>\n",
       "      <td>19.0</td>\n",
       "      <td>26.0</td>\n",
       "      <td>16500.0</td>\n",
       "    </tr>\n",
       "    <tr>\n",
       "      <th>3</th>\n",
       "      <td>164.0</td>\n",
       "      <td>99.8</td>\n",
       "      <td>176.6</td>\n",
       "      <td>66.2</td>\n",
       "      <td>54.3</td>\n",
       "      <td>2337.0</td>\n",
       "      <td>109.0</td>\n",
       "      <td>3.19</td>\n",
       "      <td>3.40</td>\n",
       "      <td>10.0</td>\n",
       "      <td>102.0</td>\n",
       "      <td>5500.0</td>\n",
       "      <td>24.0</td>\n",
       "      <td>30.0</td>\n",
       "      <td>13950.0</td>\n",
       "    </tr>\n",
       "    <tr>\n",
       "      <th>4</th>\n",
       "      <td>164.0</td>\n",
       "      <td>99.4</td>\n",
       "      <td>176.6</td>\n",
       "      <td>66.4</td>\n",
       "      <td>54.3</td>\n",
       "      <td>2824.0</td>\n",
       "      <td>136.0</td>\n",
       "      <td>3.19</td>\n",
       "      <td>3.40</td>\n",
       "      <td>8.0</td>\n",
       "      <td>115.0</td>\n",
       "      <td>5500.0</td>\n",
       "      <td>18.0</td>\n",
       "      <td>22.0</td>\n",
       "      <td>17450.0</td>\n",
       "    </tr>\n",
       "  </tbody>\n",
       "</table>\n",
       "</div>"
      ],
      "text/plain": [
       "   normalized_losses  wheel_base  length  width  height  curb_weight  \\\n",
       "0              122.0        88.6   168.8   64.1    48.8       2548.0   \n",
       "1              122.0        88.6   168.8   64.1    48.8       2548.0   \n",
       "2              122.0        94.5   171.2   65.5    52.4       2823.0   \n",
       "3              164.0        99.8   176.6   66.2    54.3       2337.0   \n",
       "4              164.0        99.4   176.6   66.4    54.3       2824.0   \n",
       "\n",
       "   engine_size  bore  stroke  compression_ratio  horsepower  peak_rpm  \\\n",
       "0        130.0  3.47    2.68                9.0       111.0    5000.0   \n",
       "1        130.0  3.47    2.68                9.0       111.0    5000.0   \n",
       "2        152.0  2.68    3.47                9.0       154.0    5000.0   \n",
       "3        109.0  3.19    3.40               10.0       102.0    5500.0   \n",
       "4        136.0  3.19    3.40                8.0       115.0    5500.0   \n",
       "\n",
       "   city_mpg  highway_mpg    price  \n",
       "0      21.0         27.0  13495.0  \n",
       "1      21.0         27.0  16500.0  \n",
       "2      19.0         26.0  16500.0  \n",
       "3      24.0         30.0  13950.0  \n",
       "4      18.0         22.0  17450.0  "
      ]
     },
     "execution_count": 8,
     "metadata": {},
     "output_type": "execute_result"
    }
   ],
   "source": [
    "numeric_cars = numeric_cars.fillna(numeric_cars.mean())\n",
    "print(numeric_cars.info())\n",
    "numeric_cars.head()"
   ]
  },
  {
   "cell_type": "markdown",
   "metadata": {},
   "source": [
    "Great! Now we're done with the data cleaning. Let's move on to the normalization of the data using the method we learned in the course."
   ]
  },
  {
   "cell_type": "code",
   "execution_count": 9,
   "metadata": {
    "collapsed": false
   },
   "outputs": [
    {
     "data": {
      "text/html": [
       "<div>\n",
       "<style scoped>\n",
       "    .dataframe tbody tr th:only-of-type {\n",
       "        vertical-align: middle;\n",
       "    }\n",
       "\n",
       "    .dataframe tbody tr th {\n",
       "        vertical-align: top;\n",
       "    }\n",
       "\n",
       "    .dataframe thead th {\n",
       "        text-align: right;\n",
       "    }\n",
       "</style>\n",
       "<table border=\"1\" class=\"dataframe\">\n",
       "  <thead>\n",
       "    <tr style=\"text-align: right;\">\n",
       "      <th></th>\n",
       "      <th>normalized_losses</th>\n",
       "      <th>wheel_base</th>\n",
       "      <th>length</th>\n",
       "      <th>width</th>\n",
       "      <th>height</th>\n",
       "      <th>curb_weight</th>\n",
       "      <th>engine_size</th>\n",
       "      <th>bore</th>\n",
       "      <th>stroke</th>\n",
       "      <th>compression_ratio</th>\n",
       "      <th>horsepower</th>\n",
       "      <th>peak_rpm</th>\n",
       "      <th>city_mpg</th>\n",
       "      <th>highway_mpg</th>\n",
       "      <th>price</th>\n",
       "    </tr>\n",
       "  </thead>\n",
       "  <tbody>\n",
       "    <tr>\n",
       "      <th>0</th>\n",
       "      <td>0.000000</td>\n",
       "      <td>-1.680910</td>\n",
       "      <td>-0.438315</td>\n",
       "      <td>-0.851335</td>\n",
       "      <td>-2.029015</td>\n",
       "      <td>-0.014821</td>\n",
       "      <td>0.075201</td>\n",
       "      <td>0.519597</td>\n",
       "      <td>-1.825369</td>\n",
       "      <td>-0.290709</td>\n",
       "      <td>0.203476</td>\n",
       "      <td>-0.245942</td>\n",
       "      <td>-0.650624</td>\n",
       "      <td>-0.540937</td>\n",
       "      <td>13495.0</td>\n",
       "    </tr>\n",
       "    <tr>\n",
       "      <th>1</th>\n",
       "      <td>0.000000</td>\n",
       "      <td>-1.680910</td>\n",
       "      <td>-0.438315</td>\n",
       "      <td>-0.851335</td>\n",
       "      <td>-2.029015</td>\n",
       "      <td>-0.014821</td>\n",
       "      <td>0.075201</td>\n",
       "      <td>0.519597</td>\n",
       "      <td>-1.825369</td>\n",
       "      <td>-0.290709</td>\n",
       "      <td>0.203476</td>\n",
       "      <td>-0.245942</td>\n",
       "      <td>-0.650624</td>\n",
       "      <td>-0.540937</td>\n",
       "      <td>16500.0</td>\n",
       "    </tr>\n",
       "    <tr>\n",
       "      <th>2</th>\n",
       "      <td>0.000000</td>\n",
       "      <td>-0.708334</td>\n",
       "      <td>-0.243544</td>\n",
       "      <td>-0.185134</td>\n",
       "      <td>-0.558319</td>\n",
       "      <td>0.516789</td>\n",
       "      <td>0.604724</td>\n",
       "      <td>-2.427374</td>\n",
       "      <td>0.674254</td>\n",
       "      <td>-0.290709</td>\n",
       "      <td>1.354267</td>\n",
       "      <td>-0.245942</td>\n",
       "      <td>-0.961995</td>\n",
       "      <td>-0.687669</td>\n",
       "      <td>16500.0</td>\n",
       "    </tr>\n",
       "    <tr>\n",
       "      <th>3</th>\n",
       "      <td>1.312654</td>\n",
       "      <td>0.165335</td>\n",
       "      <td>0.194690</td>\n",
       "      <td>0.147966</td>\n",
       "      <td>0.217881</td>\n",
       "      <td>-0.422710</td>\n",
       "      <td>-0.430252</td>\n",
       "      <td>-0.524899</td>\n",
       "      <td>0.452769</td>\n",
       "      <td>-0.041019</td>\n",
       "      <td>-0.037387</td>\n",
       "      <td>0.799836</td>\n",
       "      <td>-0.183569</td>\n",
       "      <td>-0.100741</td>\n",
       "      <td>13950.0</td>\n",
       "    </tr>\n",
       "    <tr>\n",
       "      <th>4</th>\n",
       "      <td>1.312654</td>\n",
       "      <td>0.099398</td>\n",
       "      <td>0.194690</td>\n",
       "      <td>0.243137</td>\n",
       "      <td>0.217881</td>\n",
       "      <td>0.518722</td>\n",
       "      <td>0.219617</td>\n",
       "      <td>-0.524899</td>\n",
       "      <td>0.452769</td>\n",
       "      <td>-0.540399</td>\n",
       "      <td>0.310527</td>\n",
       "      <td>0.799836</td>\n",
       "      <td>-1.117680</td>\n",
       "      <td>-1.274597</td>\n",
       "      <td>17450.0</td>\n",
       "    </tr>\n",
       "  </tbody>\n",
       "</table>\n",
       "</div>"
      ],
      "text/plain": [
       "   normalized_losses  wheel_base    length     width    height  curb_weight  \\\n",
       "0           0.000000   -1.680910 -0.438315 -0.851335 -2.029015    -0.014821   \n",
       "1           0.000000   -1.680910 -0.438315 -0.851335 -2.029015    -0.014821   \n",
       "2           0.000000   -0.708334 -0.243544 -0.185134 -0.558319     0.516789   \n",
       "3           1.312654    0.165335  0.194690  0.147966  0.217881    -0.422710   \n",
       "4           1.312654    0.099398  0.194690  0.243137  0.217881     0.518722   \n",
       "\n",
       "   engine_size      bore    stroke  compression_ratio  horsepower  peak_rpm  \\\n",
       "0     0.075201  0.519597 -1.825369          -0.290709    0.203476 -0.245942   \n",
       "1     0.075201  0.519597 -1.825369          -0.290709    0.203476 -0.245942   \n",
       "2     0.604724 -2.427374  0.674254          -0.290709    1.354267 -0.245942   \n",
       "3    -0.430252 -0.524899  0.452769          -0.041019   -0.037387  0.799836   \n",
       "4     0.219617 -0.524899  0.452769          -0.540399    0.310527  0.799836   \n",
       "\n",
       "   city_mpg  highway_mpg    price  \n",
       "0 -0.650624    -0.540937  13495.0  \n",
       "1 -0.650624    -0.540937  16500.0  \n",
       "2 -0.961995    -0.687669  16500.0  \n",
       "3 -0.183569    -0.100741  13950.0  \n",
       "4 -1.117680    -1.274597  17450.0  "
      ]
     },
     "execution_count": 9,
     "metadata": {},
     "output_type": "execute_result"
    }
   ],
   "source": [
    "normalized_cars = (numeric_cars-numeric_cars.mean())/numeric_cars.std()\n",
    "normalized_cars['price'] = numeric_cars['price']\n",
    "normalized_cars.head()"
   ]
  },
  {
   "cell_type": "markdown",
   "metadata": {},
   "source": [
    "## Univariate Model\n",
    "\n",
    "Let's start with some univariate k-nearest neighbors models. Starting with simple models before moving to more complex models helps us structure your code workflow and understand the features better.\n",
    "\n",
    "Here we'll create a function, named knn_train_test() that encapsulates the training and simple validation process. This function should have 3 parameters--training column name, target column name, and the dataframe object.\n",
    "\n",
    "   + This function should split the data set into a training and test set.\n",
    "   + Then, it should instantiate the KNeighborsRegressor class, fit the model on the training set, and make predictions on the test set.\n",
    "   + Finally, it should calculate the RMSE(root mean squared error) and return that value.\n",
    "   \n",
    "Now let's write this function."
   ]
  },
  {
   "cell_type": "code",
   "execution_count": 10,
   "metadata": {
    "collapsed": false
   },
   "outputs": [
    {
     "data": {
      "text/plain": [
       "engine_size          3297.699744\n",
       "horsepower           4047.376555\n",
       "curb_weight          4453.680703\n",
       "highway_mpg          4625.047587\n",
       "city_mpg             4754.637378\n",
       "width                4772.510209\n",
       "length               5429.644740\n",
       "wheel_base           5461.490336\n",
       "compression_ratio    6606.571346\n",
       "bore                 6793.057484\n",
       "normalized_losses    7337.284820\n",
       "peak_rpm             7643.070323\n",
       "stroke               8006.096427\n",
       "height               8132.467732\n",
       "dtype: float64"
      ]
     },
     "execution_count": 10,
     "metadata": {},
     "output_type": "execute_result"
    }
   ],
   "source": [
    "from sklearn.neighbors import KNeighborsRegressor\n",
    "from sklearn.metrics import mean_squared_error\n",
    "import numpy\n",
    "\n",
    "#Randomize the dataset.\n",
    "numpy.random.seed(1)\n",
    "rand_index = numpy.random.permutation(normalized_cars.index)\n",
    "rand_df = normalized_cars.reindex(rand_index)\n",
    "split_index = int(len(rand_df)/2)\n",
    "#Split the dataframe into training set and test set.\n",
    "train_df = rand_df.iloc[0:split_index]\n",
    "test_df = rand_df.iloc[split_index:]\n",
    "\n",
    "def knn_train_test(train, target):\n",
    "    #Instantiate the KNeighborsRegressor class with default k value.\n",
    "    knn = KNeighborsRegressor()\n",
    "    knn.fit(train_df[[train]], train_df[target])\n",
    "    predictions = knn.predict(test_df[[train]])\n",
    "    mse = mean_squared_error(test_df[target], predictions)\n",
    "    rmse = numpy.sqrt(mse)\n",
    "    return rmse\n",
    "\n",
    "rmse_result= {}\n",
    "numeric_columns = rand_df.columns.drop('price')\n",
    "for col in numeric_columns:\n",
    "    rmse = knn_train_test(col, 'price')\n",
    "    rmse_result[col] = rmse\n",
    "    \n",
    "rmse_series = pd.Series(rmse_result)\n",
    "rmse_series.sort_values()"
   ]
  },
  {
   "cell_type": "markdown",
   "metadata": {},
   "source": [
    "As shown above, among univariate models, 'engine_size' column performed the best using the default k value. What will happen if we change the k values?\n",
    "\n",
    "Let's rewrite the function to accept a parameter for the k value."
   ]
  },
  {
   "cell_type": "code",
   "execution_count": 11,
   "metadata": {
    "collapsed": false
   },
   "outputs": [
    {
     "name": "stdout",
     "output_type": "stream",
     "text": [
      "          bore     city_mpg  compression_ratio  curb_weight  engine_size  \\\n",
      "1  8602.588485  5901.143574        8083.070178  5288.019573  3227.659787   \n",
      "3  6977.123412  4608.180446        7379.623322  5011.878915  2946.741788   \n",
      "5  6793.057484  4754.637378        6606.571346  4453.680703  3297.699744   \n",
      "7  6828.867808  5035.456897        6732.032905  4330.149365  3563.435099   \n",
      "9  6865.299025  5333.161658        7019.951251  4632.925251  3831.764971   \n",
      "\n",
      "        height  highway_mpg   horsepower       length  normalized_losses  \\\n",
      "1  8904.046456  6025.594967  4170.054848  4577.003915        7779.606038   \n",
      "3  8277.609643  4627.908507  4010.521803  5087.460277        7480.692361   \n",
      "5  8132.467732  4625.047587  4047.376555  5429.644740        7337.284820   \n",
      "7  7704.344964  4722.975581  4383.729139  5307.702178        7795.000931   \n",
      "9  7779.564693  5201.019510  4505.969442  5383.054515        7705.824547   \n",
      "\n",
      "      peak_rpm       stroke   wheel_base        width  \n",
      "1  9511.480068  9116.495955  4493.734069  4559.257298  \n",
      "3  8529.467275  7336.814164  5120.161506  4606.421075  \n",
      "5  7643.070323  8006.096427  5461.490336  4772.510209  \n",
      "7  7438.086088  7770.327724  5448.173408  4715.979828  \n",
      "9  7272.008120  7738.927580  5738.621574  4736.091903  \n"
     ]
    }
   ],
   "source": [
    "k_values = [1, 3, 5, 7, 9]\n",
    "def knn_train_test_k(train, target, k_v):\n",
    "    #Instantiate the KNeighborsRegressor class with customized k value.\n",
    "    knn = KNeighborsRegressor(n_neighbors = k_v)\n",
    "    knn.fit(train_df[[train]], train_df[target])\n",
    "    predictions = knn.predict(test_df[[train]])\n",
    "    mse = mean_squared_error(test_df[target], predictions)\n",
    "    rmse = numpy.sqrt(mse)\n",
    "    return rmse\n",
    "\n",
    "rmse_result_kvalues = {}\n",
    "for col in numeric_columns:\n",
    "    k_rmse_result = {}\n",
    "    for k in k_values:\n",
    "        rmse = knn_train_test_k(col, 'price', k)\n",
    "        k_rmse_result[k] = rmse\n",
    "    rmse_result_kvalues[col] = k_rmse_result\n",
    "    \n",
    "rmse_kvalues_df = pd.DataFrame(rmse_result_kvalues)\n",
    "print(rmse_kvalues_df)    "
   ]
  },
  {
   "cell_type": "code",
   "execution_count": 12,
   "metadata": {
    "collapsed": false
   },
   "outputs": [
    {
     "data": {
      "image/png": "[encoded data removed]",
      "text/plain": [
       "<matplotlib.figure.Figure at 0x7fd53fcded68>"
      ]
     },
     "metadata": {},
     "output_type": "display_data"
    }
   ],
   "source": [
    "#Visualize the result using a scatter plot.\n",
    "import matplotlib.pyplot as plt\n",
    "%matplotlib inline\n",
    "rmse_kvalues_df.plot.line(legend = False)\n",
    "plt.xlabel('k value')\n",
    "plt.ylabel('RMSE')\n",
    "plt.show()"
   ]
  },
  {
   "cell_type": "markdown",
   "metadata": {},
   "source": [
    "Within the numeric columns, five of them have the lowest rmse with the k value of 3, and four of them have the lowest rmse with the k value of 5."
   ]
  },
  {
   "cell_type": "markdown",
   "metadata": {},
   "source": [
    "## Multivariate Model\n",
    "\n",
    "Let's modify the knn_train_test() function we wrote in the last step to work with multiple columns.\n",
    "\n",
    "We'll modify the function to accept a list of column names (instead of just a string). For now we will use the default k value, and we'll tune the k value in the next step.\n",
    "\n",
    "We'll try the following combinations:\n",
    "\n",
    "   + Instead of using just a single column for train and test, use all of the columns passed in.\n",
    "   + Use the best 2 features from the previous step to train and test a multivariate k-nearest neighbors model using the default k value.\n",
    "   + Use the best 3 features from the previous step to train and test a multivariate k-nearest neighbors model using the default k value.\n",
    "   + Use the best 4 features from the previous step to train and test a multivariate k-nearest neighbors model using the default k value.\n",
    "   + Use the best 5 features from the previous step to train and test a multivariate k-nearest neighbors model using the default k value."
   ]
  },
  {
   "cell_type": "code",
   "execution_count": 13,
   "metadata": {
    "collapsed": false
   },
   "outputs": [
    {
     "name": "stdout",
     "output_type": "stream",
     "text": [
      "engine_size          3373.460278\n",
      "horsepower           4223.530357\n",
      "width                4678.052063\n",
      "curb_weight          4743.330761\n",
      "highway_mpg          5040.509230\n",
      "city_mpg             5126.515991\n",
      "length               5156.973125\n",
      "wheel_base           5252.436179\n",
      "compression_ratio    7164.249800\n",
      "bore                 7213.387243\n",
      "normalized_losses    7619.681739\n",
      "stroke               7993.732370\n",
      "peak_rpm             8078.822375\n",
      "height               8159.606698\n",
      "dtype: float64\n"
     ]
    }
   ],
   "source": [
    "#Compute the average rmse accross different k value for each column.\n",
    "print(rmse_kvalues_df.mean().sort_values())"
   ]
  },
  {
   "cell_type": "code",
   "execution_count": 14,
   "metadata": {
    "collapsed": false
   },
   "outputs": [
    {
     "name": "stdout",
     "output_type": "stream",
     "text": [
      "Index(['engine_size', 'horsepower', 'width', 'curb_weight', 'highway_mpg',\n",
      "       'city_mpg', 'length', 'wheel_base', 'compression_ratio', 'bore',\n",
      "       'normalized_losses', 'stroke', 'peak_rpm', 'height'],\n",
      "      dtype='object')\n"
     ]
    }
   ],
   "source": [
    "feature_in_order = rmse_kvalues_df.mean().sort_values().index\n",
    "print(feature_in_order)"
   ]
  },
  {
   "cell_type": "code",
   "execution_count": 15,
   "metadata": {
    "collapsed": false
   },
   "outputs": [
    {
     "name": "stdout",
     "output_type": "stream",
     "text": [
      "{2: 2938.1306900277887, 3: 3576.5381752208214, 4: 3435.145837075945, 5: 3457.4725012114936, 14: 3730.068922889355}\n"
     ]
    }
   ],
   "source": [
    "feature_num = [2, 3, 4, 5, len(feature_in_order)]\n",
    "rmse_feature_numbers = {}\n",
    "def knn_train_test_multivariate(features, target, feature_number):\n",
    "    #Instantiate the KNeighborsRegressor class with customized k value.\n",
    "    knn = KNeighborsRegressor()\n",
    "    knn.fit(train_df[features[0:feature_number]], train_df[target])\n",
    "    predictions = knn.predict(test_df[features[0:feature_number]])\n",
    "    mse = mean_squared_error(test_df[target], predictions)\n",
    "    rmse = numpy.sqrt(mse)\n",
    "    return rmse\n",
    "for num in feature_num:\n",
    "    rmse = knn_train_test_multivariate(feature_in_order, 'price', num)\n",
    "    rmse_feature_numbers[num] = rmse\n",
    "\n",
    "print(rmse_feature_numbers)"
   ]
  },
  {
   "cell_type": "markdown",
   "metadata": {},
   "source": [
    "The result indicated that with two features, the model performed the best. With four and five features, the models performed better than the rest."
   ]
  },
  {
   "cell_type": "markdown",
   "metadata": {},
   "source": [
    "## Hyperparameter Tuning\n",
    "\n",
    "Let's now optimize the model that performed the best in the previous step.\n",
    "\n",
    "We'll choose the best three models in the last step, and vary the hyperparameter value from 1 to 25 and plot the resulting RMSE values."
   ]
  },
  {
   "cell_type": "code",
   "execution_count": 16,
   "metadata": {
    "collapsed": false
   },
   "outputs": [
    {
     "name": "stdout",
     "output_type": "stream",
     "text": [
      "              2            4            5\n",
      "1   2824.828708  2734.943457  2497.703948\n",
      "2   2615.442453  3094.990918  2868.726166\n",
      "3   2676.652148  3079.423322  3001.769441\n",
      "4   2831.784120  3207.401446  3271.795490\n",
      "5   2938.130690  3435.145837  3457.472501\n",
      "6   3128.516969  3644.905718  3666.511817\n",
      "7   3204.055439  3639.209219  3636.367312\n",
      "8   3459.882605  3801.023683  3847.978916\n",
      "9   3715.847780  3839.085309  3866.743418\n",
      "10  3980.307424  3966.852486  3987.374931\n",
      "11  4151.348212  4081.493685  4106.189726\n",
      "12  4231.233582  4203.255322  4170.144026\n",
      "13  4321.751666  4280.433927  4335.025937\n",
      "14  4366.489860  4312.762148  4418.156226\n",
      "15  4487.120413  4377.178254  4396.651193\n",
      "16  4591.609217  4429.742403  4402.239525\n",
      "17  4683.284404  4409.361305  4376.680455\n",
      "18  4739.084337  4416.406551  4440.081780\n",
      "19  4784.099214  4466.986486  4499.442587\n",
      "20  4777.706747  4515.818654  4554.460823\n",
      "21  4816.391896  4573.459748  4577.501318\n",
      "22  4806.480777  4642.593680  4654.783949\n",
      "23  4832.819315  4639.899018  4708.456207\n",
      "24  4883.724637  4704.718491  4777.553111\n",
      "25  4975.511031  4765.296627  4818.797691\n"
     ]
    }
   ],
   "source": [
    "k_values = [i for i in range(1, 26)]\n",
    "feature_num = [2, 4, 5]\n",
    "rmse_multivariate_kvalue = {}\n",
    "def knn_train_test_multivariate_k(features, target, feature_number, k_v):\n",
    "    #Instantiate the KNeighborsRegressor class with customized k value.\n",
    "    knn = KNeighborsRegressor(n_neighbors = k_v)\n",
    "    knn.fit(train_df[features[0:feature_number]], train_df[target])\n",
    "    predictions = knn.predict(test_df[features[0:feature_number]])\n",
    "    mse = mean_squared_error(test_df[target], predictions)\n",
    "    rmse = numpy.sqrt(mse)\n",
    "    return rmse\n",
    "for num in feature_num:\n",
    "    rmse_kvalue = {}\n",
    "    for k in k_values:\n",
    "        rmse = knn_train_test_multivariate_k(feature_in_order, 'price', num, k)\n",
    "        rmse_kvalue[k] = rmse\n",
    "    rmse_multivariate_kvalue[num] = rmse_kvalue\n",
    "\n",
    "rmse_multivariate_kvalue_df = pd.DataFrame(rmse_multivariate_kvalue)\n",
    "print(rmse_multivariate_kvalue_df)    "
   ]
  },
  {
   "cell_type": "code",
   "execution_count": 17,
   "metadata": {
    "collapsed": false
   },
   "outputs": [
    {
     "data": {
      "image/png": "[encoded data removed]",
      "text/plain": [
       "<matplotlib.figure.Figure at 0x7fd53fe8acc0>"
      ]
     },
     "metadata": {},
     "output_type": "display_data"
    }
   ],
   "source": [
    "##Visualize the result with a line plot.\n",
    "rmse_multivariate_kvalue_df.plot.line()\n",
    "plt.xlabel('k value')\n",
    "plt.ylabel('RMSE')\n",
    "plt.show()"
   ]
  },
  {
   "cell_type": "markdown",
   "metadata": {},
   "source": [
    "For two best features, the model with the k value of 2 performed the best, while the k value of 1 is optimal for the models with four and five features. The bigger the k value, the bigger the rmse. The explanation for this should be that the variances account for the difference. The bigger the k value, the more neighbors involved."
   ]
  },
  {
   "cell_type": "markdown",
   "metadata": {},
   "source": [
    "## Conclusions and Future Directions\n",
    "\n",
    "In this project, we created functions to generate univariate and multivariate models to predict the price of cars. We tuned our hyperparameters using grid search.\n",
    "\n",
    "In the future, here are some ideas for next steps:\n",
    "\n",
    "   + Modify the knn_train_test() function to use k-fold cross validation instead of train/test validation."
   ]
  }
 ],
 "metadata": {
  "kernelspec": {
   "display_name": "Python 3",
   "language": "python",
   "name": "python3"
  },
  "language_info": {
   "codemirror_mode": {
    "name": "ipython",
    "version": 3
   },
   "file_extension": ".py",
   "mimetype": "text/x-python",
   "name": "python",
   "nbconvert_exporter": "python",
   "pygments_lexer": "ipython3",
   "version": "3.4.3"
  }
 },
 "nbformat": 4,
 "nbformat_minor": 2
}
